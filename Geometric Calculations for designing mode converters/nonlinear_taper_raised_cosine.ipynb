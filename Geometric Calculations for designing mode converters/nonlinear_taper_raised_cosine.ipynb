{
 "cells": [
  {
   "cell_type": "markdown",
   "metadata": {},
   "source": [
    "Nonlinear taper design using raised cosine function\n",
    "Original script by CMS, 20140220\n",
    "    \n",
    "$$\n",
    "r(z) = \n",
    "\\begin{cases} r_s + r_1(1 - \\cos(\\dfrac{z}{z_1}))^{(1 + x_1)} & \\quad \\text{when } 0<z<z_i \\\\ \\\\\n",
    "r_e - r_2(1 - \\cos[\\dfrac{z_e-z}{z_2}])^{(1 + x_2)} & \\quad \\text{when } z_i<z<z_e \\\\\n",
    "\\end{cases} \n",
    "$$"
   ]
  },
  {
   "cell_type": "code",
   "execution_count": 19,
   "metadata": {
    "collapsed": false
   },
   "outputs": [
    {
     "data": {
      "text/plain": [
       "160"
      ]
     },
     "execution_count": 19,
     "metadata": {},
     "output_type": "execute_result"
    }
   ],
   "source": [
    "c = 299792458.0e3  # speed of light [mm/s]\n",
    "f = 95.0       # frequency [GHz]\n",
    "lambda0 = c/f/1e9    # wavelength [mm]\n",
    "a = 2.032\n",
    "b = a/2          # standard waveguie size [mm]\n",
    "rs = b/2         # r(0)\n",
    "re = b           # r(ze)\n",
    "ze = lambda0     # total length of taper\n",
    "zi = 0.2ze       # length of first cosine\n",
    "x1 = 0\n",
    "x2 = 0\n",
    "z1 = 40          # arbitrary choices for z1 & z2\n",
    "z2 = 160"
   ]
  },
  {
   "cell_type": "code",
   "execution_count": 4,
   "metadata": {
    "collapsed": false
   },
   "outputs": [],
   "source": [
    "using SymPy"
   ]
  },
  {
   "cell_type": "code",
   "execution_count": 5,
   "metadata": {
    "collapsed": false
   },
   "outputs": [
    {
     "name": "stderr",
     "output_type": "stream",
     "text": [
      "Warning: using SymPy.re in module Main conflicts with an existing identifier.\n"
     ]
    },
    {
     "data": {
      "text/plain": [
       "(r_1,r_2,z)"
      ]
     },
     "execution_count": 5,
     "metadata": {},
     "output_type": "execute_result"
    }
   ],
   "source": [
    "r1, r2, z = symbols(\"r_1, r_2, z\")"
   ]
  },
  {
   "cell_type": "code",
   "execution_count": 6,
   "metadata": {
    "collapsed": false
   },
   "outputs": [
    {
     "data": {
      "text/latex": [
       "$$r_{1} \\left(- \\cos{\\left (\\frac{z}{40} \\right )} + 1\\right) + 0.508$$"
      ],
      "text/plain": [
       "    /     /z \\    \\        \n",
       "r_1*|- cos|--| + 1| + 0.508\n",
       "    \\     \\40/    /        "
      ]
     },
     "execution_count": 6,
     "metadata": {},
     "output_type": "execute_result"
    }
   ],
   "source": [
    "rz1 = rs + r1*(1 - cos(z/z1))^(1+x1)"
   ]
  },
  {
   "cell_type": "code",
   "execution_count": 7,
   "metadata": {
    "collapsed": false
   },
   "outputs": [
    {
     "data": {
      "text/latex": [
       "$$- r_{2} \\left(- \\cos{\\left (\\frac{z}{160} - 0.0197231880263158 \\right )} + 1\\right) + 1.016$$"
      ],
      "text/plain": [
       "      /     / z                      \\    \\        \n",
       "- r_2*|- cos|--- - 0.0197231880263158| + 1| + 1.016\n",
       "      \\     \\160                     /    /        "
      ]
     },
     "execution_count": 7,
     "metadata": {},
     "output_type": "execute_result"
    }
   ],
   "source": [
    "rz2 = re - r2*(1 - cos((ze-z)/z2))^(1+x2)"
   ]
  },
  {
   "cell_type": "code",
   "execution_count": 8,
   "metadata": {
    "collapsed": false
   },
   "outputs": [
    {
     "data": {
      "text/latex": [
       "\\begin{equation*}\\begin{cases}\"r_1\" & \\text{=>} &816.203607462535\\\\\"r_2\" & \\text{=>} &3264.81442985014\\\\\\end{cases}\\end{equation*}"
      ],
      "text/plain": [
       "Dict{String,Sym} with 2 entries:\n",
       "  \"r_1\" => 816.203607462535\n",
       "  \"r_2\" => 3264.81442985014"
      ]
     },
     "execution_count": 8,
     "metadata": {},
     "output_type": "execute_result"
    }
   ],
   "source": [
    "solve([Eq(subs(rz1, z, zi), subs(rz2, z, zi)),\n",
    "    Eq(subs(diff(rz1, z), z, zi), subs(diff(rz2, z), z, zi))])"
   ]
  },
  {
   "cell_type": "code",
   "execution_count": 9,
   "metadata": {
    "collapsed": false
   },
   "outputs": [
    {
     "name": "stderr",
     "output_type": "stream",
     "text": [
      "INFO: Loading help data...\n"
     ]
    }
   ],
   "source": [
    "using PyPlot"
   ]
  },
  {
   "cell_type": "code",
   "execution_count": 20,
   "metadata": {
    "collapsed": false
   },
   "outputs": [
    {
     "data": {
      "text/plain": [
       "100-element Array{Float64,1}:\n",
       " 0.6096  \n",
       " 0.617768\n",
       " 0.625854\n",
       " 0.633857\n",
       " 0.641776\n",
       " 0.649613\n",
       " 0.657367\n",
       " 0.665038\n",
       " 0.672626\n",
       " 0.680131\n",
       " 0.687553\n",
       " 0.694892\n",
       " 0.702149\n",
       " ⋮       \n",
       " 1.01098 \n",
       " 1.01185 \n",
       " 1.01264 \n",
       " 1.01335 \n",
       " 1.01397 \n",
       " 1.01451 \n",
       " 1.01496 \n",
       " 1.01534 \n",
       " 1.01563 \n",
       " 1.01583 \n",
       " 1.01596 \n",
       " 1.016   "
      ]
     },
     "execution_count": 20,
     "metadata": {},
     "output_type": "execute_result"
    }
   ],
   "source": [
    "r1 = 816.203607462535\n",
    "r2 = 3264.81442985014\n",
    "zz1 = linspace(0, zi, 100)\n",
    "zz2 = linspace(zi, ze, 100)\n",
    "rz1 = rs + r1*(1 - cos(zz1./z1))^(1+x1)\n",
    "rz2 = re - r2*(1 - cos((ze-zz2)./z2))^(1+x2)"
   ]
  },
  {
   "cell_type": "code",
   "execution_count": 33,
   "metadata": {
    "collapsed": false
   },
   "outputs": [
    {
     "data": {
      "image/png": "[encoded data removed]",
      "text/plain": [
       "Figure(PyObject <matplotlib.figure.Figure object at 0x0000000039E93CC0>)"
      ]
     },
     "metadata": {},
     "output_type": "display_data"
    },
    {
     "data": {
      "text/plain": [
       "4-element Array{Float64,1}:\n",
       " 0.0\n",
       " 3.5\n",
       " 0.0\n",
       " 3.5"
      ]
     },
     "execution_count": 33,
     "metadata": {},
     "output_type": "execute_result"
    }
   ],
   "source": [
    "p1 = plot(zz1, rz1)\n",
    "p2 = plot(zz2, rz2)\n",
    "axis([0, 3.5, 0, 3.5])"
   ]
  },
  {
   "cell_type": "code",
   "execution_count": null,
   "metadata": {
    "collapsed": true
   },
   "outputs": [],
   "source": []
  }
 ],
 "metadata": {
  "kernelspec": {
   "display_name": "Julia 0.3.10",
   "language": "julia",
   "name": "julia-0.3"
  },
  "language_info": {
   "name": "julia",
   "version": "0.3.10"
  }
 },
 "nbformat": 4,
 "nbformat_minor": 0
}
