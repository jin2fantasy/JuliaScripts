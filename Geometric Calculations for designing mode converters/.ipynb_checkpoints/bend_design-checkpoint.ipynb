{
 "cells": [
  {
   "cell_type": "markdown",
   "metadata": {},
   "source": [
    "#this script is for bend design"
   ]
  },
  {
   "cell_type": "code",
   "execution_count": 10,
   "metadata": {
    "collapsed": false
   },
   "outputs": [
    {
     "data": {
      "text/latex": [
       "$$3.73205080756888 x + 65.7995141943503$$"
      ],
      "text/plain": [
       "3.73205080756888*x + 65.7995141943503"
      ]
     },
     "execution_count": 10,
     "metadata": {},
     "output_type": "execute_result"
    }
   ],
   "source": [
    "using SymPy\n",
    "cx, x = symbols(\"c_x, x\")\n",
    "a = 2.032\n",
    "b = a/2\n",
    "r = 3.0 + b/2\n",
    "p = [-15.037727, 9.677953]\n",
    "y1 = r - sqrt(r^2 - (x-cx)^2)\n",
    "y2 = tand(75)*(x - p[1]) + p[2]"
   ]
  },
  {
   "cell_type": "code",
   "execution_count": 11,
   "metadata": {
    "collapsed": false
   },
   "outputs": [
    {
     "data": {
      "text/latex": [
       "\\begin{bmatrix}-20.3227097645665\\end{bmatrix}"
      ],
      "text/plain": [
       "1-element Array{Sym,1}\n",
       "[-20.3227097645665]"
      ]
     },
     "execution_count": 11,
     "metadata": {},
     "output_type": "execute_result"
    }
   ],
   "source": [
    "solve(subs(y1, x, cx + r*sind(75)) ⩵ subs(y2, x, cx + r*sind(75)))"
   ]
  },
  {
   "cell_type": "code",
   "execution_count": 12,
   "metadata": {
    "collapsed": false
   },
   "outputs": [
    {
     "data": {
      "text/latex": [
       "$$1.0 x + 36.965804$$"
      ],
      "text/plain": [
       "1.0*x + 36.965804"
      ]
     },
     "execution_count": 12,
     "metadata": {},
     "output_type": "execute_result"
    }
   ],
   "source": [
    "using SymPy\n",
    "cy, x = symbols(\"c_x, x\", real=true)\n",
    "a = 2.032\n",
    "b = a/2\n",
    "r = 3.0 + b/2\n",
    "p = [-32.203694, 4.762110]\n",
    "y1 = cy - sqrt(r^2 - (x+r)^2)\n",
    "y2 = tand(45)*(x - p[1]) + p[2]"
   ]
  },
  {
   "cell_type": "code",
   "execution_count": 13,
   "metadata": {
    "collapsed": false
   },
   "outputs": [
    {
     "data": {
      "text/latex": [
       "\\begin{bmatrix}38.4188651768048\\end{bmatrix}"
      ],
      "text/plain": [
       "1-element Array{Sym,1}\n",
       "[38.4188651768048]"
      ]
     },
     "execution_count": 13,
     "metadata": {},
     "output_type": "execute_result"
    }
   ],
   "source": [
    "solve(subs(y1, x, r*(-1+cosd(45))) ⩵ subs(y2, x, r*(-1+cosd(45))))"
   ]
  },
  {
   "cell_type": "code",
   "execution_count": 1,
   "metadata": {
    "collapsed": false
   },
   "outputs": [
    {
     "data": {
      "text/plain": [
       "2.705980500730985"
      ]
     },
     "execution_count": 1,
     "metadata": {},
     "output_type": "execute_result"
    }
   ],
   "source": [
    "r1 = (10.0-7.5)/cosd(22.5)"
   ]
  },
  {
   "cell_type": "code",
   "execution_count": 1,
   "metadata": {
    "collapsed": false
   },
   "outputs": [
    {
     "data": {
      "text/latex": [
       "$$c_{y} + \\sqrt{r^{2} - \\left(- c_{x} + x\\right)^{2}}$$"
      ],
      "text/plain": [
       "         __________________\n",
       "        /  2             2 \n",
       "c_y + \\/  r  - (-c_x + x)  "
      ]
     },
     "execution_count": 1,
     "metadata": {},
     "output_type": "execute_result"
    }
   ],
   "source": [
    "using SymPy\n",
    "cx, cy, x, r = symbols(\"c_x, c_y, x, r\", real=true)\n",
    "y = cy + sqrt(r^2 - (x-cx)^2)"
   ]
  },
  {
   "cell_type": "code",
   "execution_count": 2,
   "metadata": {
    "collapsed": false
   },
   "outputs": [
    {
     "data": {
      "text/plain": [
       "1-element Array{Any,1}:\n",
       " [\"c_y\"=>-1.87133554829629,\"r\"=>4.48574194547214,\"c_x\"=>13.5853155482963]"
      ]
     },
     "execution_count": 2,
     "metadata": {},
     "output_type": "execute_result"
    }
   ],
   "source": [
    "solve([subs(y, x, 10.413417) ⩵ 1.300563,\n",
    "    subs(diff(y, x), x, 10.413417) ⩵ tand(45),\n",
    "    r ⩵ abs(tand(11.25)*cx - cy)/sqrt(tand(11.25)^2+1)])"
   ]
  },
  {
   "cell_type": "code",
   "execution_count": 40,
   "metadata": {
    "collapsed": false
   },
   "outputs": [
    {
     "data": {
      "text/latex": [
       "$$c_{y} + \\sqrt{- \\left(- c_{x} + x\\right)^{2} + 9.0}$$"
      ],
      "text/plain": [
       "         _____________________\n",
       "        /             2       \n",
       "c_y + \\/  - (-c_x + x)  + 9.0 "
      ]
     },
     "execution_count": 40,
     "metadata": {},
     "output_type": "execute_result"
    }
   ],
   "source": [
    "using SymPy\n",
    "x, cx, cy = symbols(\"x, c_x, c_y\", real=true)\n",
    "p = [17.262635, 2.359950]\n",
    "r = 3.0\n",
    "y1 = tand(45+22.5)*(x-p[1]) + p[2]\n",
    "y2 = cy + sqrt(r^2 - (x-cx)^2)"
   ]
  },
  {
   "cell_type": "code",
   "execution_count": 42,
   "metadata": {
    "collapsed": false
   },
   "outputs": [
    {
     "data": {
      "text/plain": [
       "4-element Array{Any,1}:\n",
       " [\"c_y\"=>2.59927865667111,\"c_x\"=>14.1145915745806]\n",
       " [\"c_y\"=>5.84645525754830,\"c_x\"=>21.9539693638388]\n",
       " [\"c_y\"=>10.4386564459294,\"c_x\"=>17.3617681754578]\n",
       " [\"c_y\"=>13.6858330468066,\"c_x\"=>25.2011459647160]"
      ]
     },
     "execution_count": 42,
     "metadata": {},
     "output_type": "execute_result"
    }
   ],
   "source": [
    "sol = solve([r ⩵ abs(tand(22.5)*cx - cy)/sqrt(tand(22.5)^2+1),\n",
    "    (r ⩵ abs(tand(45+22.5)*cx - cy - tand(45+22.5)*p[1] + p[2])/\n",
    "    sqrt(tand(45+22.5)^2+1))])"
   ]
  },
  {
   "cell_type": "code",
   "execution_count": 25,
   "metadata": {
    "collapsed": false
   },
   "outputs": [
    {
     "data": {
      "text/plain": [
       "Point([-6.12294,6.12294,0.0])"
      ]
     },
     "execution_count": 25,
     "metadata": {},
     "output_type": "execute_result"
    }
   ],
   "source": [
    "\n",
    "immutable Point\n",
    "    coord::Vector{Float64}\n",
    "    function Point(x, y, z)\n",
    "        coord = [x, y, z]\n",
    "        new(coord)\n",
    "    end\n",
    "end\n",
    "\n",
    "+(p1::Point, p2::Point) = Point(p1.coord[1]+p2.coord[1], p1.coord[2]+p2.coord[2], p1.coord[3]+p2.coord[3])\n",
    "-(p1::Point, p2::Point) = Point(p1.coord[1]-p2.coord[1], p1.coord[2]-p2.coord[2], p1.coord[3]-p2.coord[3])\n",
    "*(p1::Point, s::Real) = Point(u*p1.coord[1], u*p1.coord[2], u*p1.coord[3])\n",
    "*(s::Real, p1::Point) = Point(u*p1.coord[1], u*p1.coord[2], u*p1.coord[3])\n",
    "getx(p::Point) = p.coord[1]\n",
    "gety(p::Point) = p.coord[2]\n",
    "getz(p::Point) = p.coord[3]\n",
    "\n",
    "immutable Line\n",
    "    p::Point\n",
    "    direction::Vector{Float64}\n",
    "    Line(p::Point, dir::Vector{Float64}) = new(p, dir/norm(dir))\n",
    "    Line(p::Point, dir) = new(p, convert(Vector{Float64}, dir/norm(dir)))\n",
    "end\n",
    "function Line(p1::Point, p2::Point)\n",
    "    diff = p2 - p1\n",
    "    Line(p1, diff.coord)\n",
    "end\n",
    "\n",
    "function isparallel(l1::Line, l2::Line)\n",
    "    if isapprox(l1.direction[1], l2.direction[1]) &&\n",
    "        isapprox(l1.direction[2], l2.direction[2]) &&\n",
    "        isapprox(l1.direction[3], l2.direction[3])\n",
    "        return true\n",
    "    end\n",
    "    return false\n",
    "end\n",
    "\n",
    "function findjunction(l1::Line, l2::Line)\n",
    "    if isparallel(l1, l2)\n",
    "        throw(error(\"lines must not be parallel\"))\n",
    "    end\n",
    "    x = (gety(l2.p) - gety(l1.p) - l2.direction[2]/l2.direction[1]*getx(l2.p)\n",
    "    + l1.direction[2]/l1.direction[1]*getx(l1.p)) / (l1.direction[2]/l1.direction[1]\n",
    "    - l2.direction[2]/l2.direction[1])\n",
    "    y = l1.direction[2]/l1.direction[1]*(x-getx(l1.p)) + gety(l1.p)\n",
    "    z = l1.direction[3]/l1.direction[1]*(x-getx(l1.p)) + getz(l1.p)\n",
    "    Point(x, y, z)\n",
    "    #=!! need exception handlings for cases where direction is 0 !!=#\n",
    "end\n",
    "\n",
    "P1=Point(-3.530798,7.196633,0)\n",
    "dir1=[0.923880,0.382683,0]\n",
    "P2=Point(-7.196633,3.530798,0)\n",
    "dir2=[0.382683,0.923880,0]\n",
    "L1=Line(P1,dir1)\n",
    "L2=Line(P2,dir2)\n",
    "findjunction(L1,L2)\n"
   ]
  },
  {
   "cell_type": "code",
   "execution_count": 43,
   "metadata": {
    "collapsed": false
   },
   "outputs": [
    {
     "name": "stdout",
     "output_type": "stream",
     "text": [
      "Point([12.9665412774853,5.370917254204962,0.0])\n",
      "Point([20.805919066743574,8.618093855082149,0.0])\n",
      "Point([18.50981847255303,7.667017848395505,0.0])\n",
      "Point([26.349196261811297,10.914194449272701,0.0])\n"
     ]
    }
   ],
   "source": [
    "for i in 1:4\n",
    "    cx = sol[i][\"c_x\"]\n",
    "    cy = sol[i][\"c_y\"]\n",
    "    l1 = Line(Point(cx, cy, 0), [1, -1/tand(22.5), 0])\n",
    "    l2 = Line(Point(0, 0, 0), [1, tand(22.5), 0])\n",
    "    println(findjunction(l1, l2))\n",
    "end"
   ]
  },
  {
   "cell_type": "code",
   "execution_count": 48,
   "metadata": {
    "collapsed": false
   },
   "outputs": [
    {
     "data": {
      "text/plain": [
       "f (generic function with 1 method)"
      ]
     },
     "execution_count": 48,
     "metadata": {},
     "output_type": "execute_result"
    }
   ],
   "source": [
    "f(x) = (x + 45.429144) + 5.629321"
   ]
  },
  {
   "cell_type": "code",
   "execution_count": 49,
   "metadata": {
    "collapsed": false
   },
   "outputs": [
    {
     "data": {
      "text/plain": [
       "51.058465"
      ]
     },
     "execution_count": 49,
     "metadata": {},
     "output_type": "execute_result"
    }
   ],
   "source": [
    "f(0)"
   ]
  },
  {
   "cell_type": "code",
   "execution_count": null,
   "metadata": {
    "collapsed": true
   },
   "outputs": [],
   "source": []
  }
 ],
 "metadata": {
  "kernelspec": {
   "display_name": "Julia 0.3.10",
   "language": "julia",
   "name": "julia-0.3"
  },
  "language_info": {
   "name": "julia",
   "version": "0.3.10"
  }
 },
 "nbformat": 4,
 "nbformat_minor": 0
}
