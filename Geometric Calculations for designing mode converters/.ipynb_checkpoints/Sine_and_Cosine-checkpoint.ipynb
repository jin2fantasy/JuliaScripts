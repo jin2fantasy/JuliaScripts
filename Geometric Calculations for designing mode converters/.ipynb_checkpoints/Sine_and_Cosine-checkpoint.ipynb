{
 "cells": [
  {
   "cell_type": "code",
   "execution_count": 1,
   "metadata": {
    "collapsed": false
   },
   "outputs": [
    {
     "data": {
      "text/plain": [
       "1-element Array{Any,1}:\n",
       " [\"b\"=>-0.814439955324295,\"a\"=>1.42372614036777]"
      ]
     },
     "execution_count": 1,
     "metadata": {},
     "output_type": "execute_result"
    }
   ],
   "source": [
    "using SymPy\n",
    "a, x, b = symbols(\"a, x, b\", real=true)\n",
    "y = a*cos(0.4x - b) + a\n",
    "dy = diff(y, x)\n",
    "rotmatrix(θ) = [cosd(θ) -sind(θ); sind(θ) cosd(θ)]\n",
    "rotatedvector = rotmatrix(45)*[0.382683, -0.923880]\n",
    "solve([subs(dy, x, 0) ⩵ (-0.382684/0.92388), subs(y, x, 0) ⩵ 2.400795])\n"
   ]
  },
  {
   "cell_type": "code",
   "execution_count": 4,
   "metadata": {
    "collapsed": false
   },
   "outputs": [
    {
     "data": {
      "text/latex": [
       "\\begin{bmatrix}5.81788174566375\\end{bmatrix}"
      ],
      "text/plain": [
       "1-element Array{Sym,1}\n",
       "[5.81788174566375]"
      ]
     },
     "execution_count": 4,
     "metadata": {},
     "output_type": "execute_result"
    }
   ],
   "source": [
    "solve(subs(subs(y, a, 1.42372614036777), b, -0.814439955324295))"
   ]
  },
  {
   "cell_type": "code",
   "execution_count": 5,
   "metadata": {
    "collapsed": false
   },
   "outputs": [
    {
     "data": {
      "text/plain": [
       "-9.890081522285215"
      ]
     },
     "execution_count": 5,
     "metadata": {},
     "output_type": "execute_result"
    }
   ],
   "source": [
    "wherezero = 5.81788174566375 - 2pi/0.4"
   ]
  },
  {
   "cell_type": "code",
   "execution_count": null,
   "metadata": {
    "collapsed": false
   },
   "outputs": [],
   "source": [
    "using SymPy\n",
    "x, a, b, c, d = symbols(\"x, a, b, c, d\", real=true)\n",
    "y = a*cos(b*x - c) + d\n",
    "dy = diff(y, x)\n",
    "solve([subs(dy, x, 0.388806) ⩵ (-0.382684/0.92388),\n",
    "    subs(y, x, 0.388806) ⩵ 3.339457,\n",
    "    subs(y, x, wherezero) ⩵ 1.016,\n",
    "    subs(dy, x, wherezero) ⩵ 0])"
   ]
  },
  {
   "cell_type": "code",
   "execution_count": 3,
   "metadata": {
    "collapsed": false
   },
   "outputs": [
    {
     "data": {
      "text/latex": [
       "$$- a b \\sin{\\left (b x - c \\right )}$$"
      ],
      "text/plain": [
       "-a*b*sin(b*x - c)"
      ]
     },
     "execution_count": 3,
     "metadata": {},
     "output_type": "execute_result"
    }
   ],
   "source": [
    "using SymPy\n",
    "x, a, b, c, d = symbols(\"x, a, b, c, d\", real=true)\n",
    "y = a*cos(b*x - c) + d\n",
    "dy = diff(y, x)"
   ]
  }
 ],
 "metadata": {
  "kernelspec": {
   "display_name": "Julia 0.3.10",
   "language": "julia",
   "name": "julia-0.3"
  },
  "language_info": {
   "name": "julia",
   "version": "0.3.10"
  }
 },
 "nbformat": 4,
 "nbformat_minor": 0
}
