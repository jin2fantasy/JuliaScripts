{
 "cells": [
  {
   "cell_type": "code",
   "execution_count": null,
   "metadata": {
    "collapsed": true
   },
   "outputs": [],
   "source": [
    "## Date:2015-06-23\n",
    "## Author:wonjin\n",
    "\n",
    "immutable Point\n",
    "    coord::Vector{Float64}\n",
    "    function Point(x, y, z)\n",
    "        coord = [x, y, z]\n",
    "        new(coord)\n",
    "    end\n",
    "end\n",
    "\n",
    "+(p1::Point, p2::Point) = Point(p1.coord[1]+p2.coord[1], p1.coord[2]+p2.coord[2], p1.coord[3]+p2.coord[3])\n",
    "-(p1::Point, p2::Point) = Point(p1.coord[1]-p2.coord[1], p1.coord[2]-p2.coord[2], p1.coord[3]-p2.coord[3])\n",
    "*(p1::Point, s::Real) = Point(u*p1.coord[1], u*p1.coord[2], u*p1.coord[3])\n",
    "*(s::Real, p1::Point) = Point(u*p1.coord[1], u*p1.coord[2], u*p1.coord[3])\n",
    "getx(p::Point) = p.coord[1]\n",
    "gety(p::Point) = p.coord[2]\n",
    "getz(p::Point) = p.coord[3]\n",
    "\n",
    "immutable Line\n",
    "    p::Point\n",
    "    direction::Vector{Float64}\n",
    "    Line(p::Point, dir::Vector{Float64}) = new(p, dir/norm(dir))\n",
    "    Line(p::Point, dir) = new(p, convert(Vector{Float64}, dir/norm(dir)))\n",
    "end\n",
    "function Line(p1::Point, p2::Point)\n",
    "    diff = p2 - p1\n",
    "    Line(p1, diff.coord)\n",
    "end\n",
    "\n",
    "function isparallel(l1::Line, l2::Line)\n",
    "    if isapprox(l1.direction[1], l2.direction[1]) &&\n",
    "        isapprox(l1.direction[2], l2.direction[2]) &&\n",
    "        isapprox(l1.direction[3], l2.direction[3])\n",
    "        return true\n",
    "    end\n",
    "    return false\n",
    "end\n",
    "\n",
    "function findjunction(l1::Line, l2::Line)\n",
    "    if isparallel(l1, l2)\n",
    "        throw(error(\"lines must not be parallel\"))\n",
    "    end\n",
    "    x = (gety(l2.p) - gety(l1.p) - l2.direction[2]/l2.direction[1]*getx(l2.p)\n",
    "    + l1.direction[2]/l1.direction[1]*getx(l1.p)) / (l1.direction[2]/l1.direction[1]\n",
    "    - l2.direction[2]/l2.direction[1])\n",
    "    y = l1.direction[2]/l1.direction[1]*(x-getx(l1.p)) + gety(l1.p)\n",
    "    z = l1.direction[3]/l1.direction[1]*(x-getx(l1.p)) + getz(l1.p)\n",
    "    Point(x, y, z)\n",
    "    #=!! need exception handlings for cases where direction is 0 !!=#\n",
    "end\n",
    "\n",
    "P1=Point(-3.530798,7.196633,0)\n",
    "dir1=[0.923880,0.382683,0]\n",
    "P2=Point(-7.196633,3.530798,0)\n",
    "dir2=[0.382683,0.923880,0]\n",
    "L1=Line(P1,dir1)\n",
    "L2=Line(P2,dir2)\n",
    "findjunction(L1,L2)\n"
   ]
  }
 ],
 "metadata": {
  "kernelspec": {
   "display_name": "Julia 0.3.9",
   "language": "julia",
   "name": "julia-0.3"
  },
  "language_info": {
   "name": "julia",
   "version": "0.3.9"
  }
 },
 "nbformat": 4,
 "nbformat_minor": 0
}
